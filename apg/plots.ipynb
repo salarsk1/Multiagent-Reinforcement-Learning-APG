{
 "cells": [
  {
   "cell_type": "code",
   "execution_count": 11,
   "metadata": {},
   "outputs": [],
   "source": [
    "import pickle\n",
    "import numpy as np\n",
    "import matplotlib.pyplot as plt\n",
    "import scipy\n",
    "from scipy.special import expit\n",
    "from itertools import *\n",
    "from matplotlib import markers\n",
    "from matplotlib import rc\n",
    "from mpl_toolkits.mplot3d import Axes3D\n",
    "from matplotlib import cm\n",
    "import sys\n",
    "from sepdesign import*\n",
    "from matplotlib import cm\n",
    "%matplotlib inline\n",
    "import matplotlib.ticker as ticker\n",
    "from matplotlib.transforms import blended_transform_factory\n",
    "import seaborn as sns\n",
    "from statsmodels.distributions.empirical_distribution import ECDF\n",
    "from collections import OrderedDict\n",
    "sns.set_context('paper')\n",
    "sns.set_style('white')\n",
    "import pickle\n",
    "import numpy as np\n",
    "import time\n",
    "import matplotlib.pyplot as plt\n",
    "import pandas as pd\n",
    "import matplotlib.ticker as ticker"
   ]
  },
  {
   "cell_type": "code",
   "execution_count": 52,
   "metadata": {},
   "outputs": [
    {
     "name": "stdout",
     "output_type": "stream",
     "text": [
      "2\n",
      "0\n",
      "1\n"
     ]
    },
    {
     "name": "stderr",
     "output_type": "stream",
     "text": [
      "/Users/salarsk/packages/anaconda3/lib/python3.6/site-packages/matplotlib/figure.py:2369: UserWarning: This figure includes Axes that are not compatible with tight_layout, so results might be incorrect.\n",
      "  warnings.warn(\"This figure includes Axes that are not compatible \"\n"
     ]
    },
    {
     "data": {
      "image/png": "[encoded data removed]",
      "text/plain": [
       "<Figure size 252x180 with 1 Axes>"
      ]
     },
     "metadata": {},
     "output_type": "display_data"
    }
   ],
   "source": [
    "fig, ax = plt.subplots(figsize=(3.5,2.5),tight_layout={'pad':0.5})\n",
    "with open('try.out', 'rb') as f:\n",
    "    z = pickle.load(f)\n",
    "\n",
    "agent1_b_mean = [[] for _ in range(len(z))]\n",
    "agent1_b_up   = [[] for _ in range(len(z))]\n",
    "agent1_b_down = [[] for _ in range(len(z))]\n",
    "data = []\n",
    "# print(len(z[0::2]))\n",
    "print(len(z))\n",
    "for k in range(len(z)):\n",
    "    print(k)\n",
    "    for i in z[k]:\n",
    "        if len(i) > 0:\n",
    "            agent1_b_mean[k].append(np.mean(i))\n",
    "            agent1_b_up[k].append(np.percentile(i, 97.5))\n",
    "            agent1_b_down[k].append(np.percentile(i, 2.5))\n",
    "\n",
    "    df_m = pd.DataFrame(agent1_b_mean[k])\n",
    "    df_up = pd.DataFrame(agent1_b_up[k])\n",
    "    df_down = pd.DataFrame(agent1_b_down[k])\n",
    "    roll_m = df_m.rolling(200).mean()\n",
    "    roll_up = df_up.rolling(200).mean()\n",
    "    roll_down = df_down.rolling(200).mean()\n",
    "    ax.plot(roll_m, label = 'agent '+str(k+1))\n",
    "ax.axes.tick_params(labelsize=12)\n",
    "ax.xaxis.set_major_formatter(ticker.EngFormatter())\n",
    "# ax.set_ylim([20 , 35])\n",
    "ax.set_xlabel('episode', size=12)\n",
    "ax.set_ylabel('$e^W$', size=12)\n",
    "ax.legend()\n",
    "fig.savefig('try4.png', dpi = 300)\n",
    "plt.show()"
   ]
  },
  {
   "cell_type": "code",
   "execution_count": 56,
   "metadata": {},
   "outputs": [
    {
     "name": "stderr",
     "output_type": "stream",
     "text": [
      "/Users/salarsk/packages/anaconda3/lib/python3.6/site-packages/matplotlib/figure.py:2369: UserWarning: This figure includes Axes that are not compatible with tight_layout, so results might be incorrect.\n",
      "  warnings.warn(\"This figure includes Axes that are not compatible \"\n"
     ]
    },
    {
     "data": {
      "image/png": "[encoded data removed]",
      "text/plain": [
       "<Figure size 252x180 with 1 Axes>"
      ]
     },
     "metadata": {},
     "output_type": "display_data"
    }
   ],
   "source": [
    "fig, ax = plt.subplots(figsize=(3.5,2.5),tight_layout={'pad':0.5})\n",
    "for k in range(2):\n",
    "        with open('agent_'+str(k+1)+'_reward.out', 'rb') as f:\n",
    "            z = pickle.load(f)\n",
    "        df_m = pd.DataFrame(z)\n",
    "        plt.plot(df_m.rolling(200).mean(), label='agent '+str(k+1))\n",
    "with open('principal_reward.out', 'rb') as f:\n",
    "    z = pickle.load(f)\n",
    "df_m = pd.DataFrame(z)\n",
    "ax.plot(df_m.rolling(200).mean(), label = 'principal')\n",
    "ax.axes.tick_params(labelsize=12)\n",
    "ax.xaxis.set_major_formatter(ticker.EngFormatter())\n",
    "ax.set_xlabel('episode', size=12)\n",
    "ax.set_ylabel('reward', size=12)\n",
    "ax.legend()\n",
    "fig.savefig('reward1', dpi=300)\n",
    "plt.show()"
   ]
  },
  {
   "cell_type": "code",
   "execution_count": null,
   "metadata": {},
   "outputs": [],
   "source": []
  },
  {
   "cell_type": "code",
   "execution_count": null,
   "metadata": {},
   "outputs": [],
   "source": []
  }
 ],
 "metadata": {
  "kernelspec": {
   "display_name": "Python 3",
   "language": "python",
   "name": "python3"
  },
  "language_info": {
   "codemirror_mode": {
    "name": "ipython",
    "version": 3
   },
   "file_extension": ".py",
   "mimetype": "text/x-python",
   "name": "python",
   "nbconvert_exporter": "python",
   "pygments_lexer": "ipython3",
   "version": "3.6.8"
  }
 },
 "nbformat": 4,
 "nbformat_minor": 2
}
