{
 "cells": [
  {
   "cell_type": "code",
   "execution_count": 1,
   "metadata": {},
   "outputs": [
    {
     "name": "stderr",
     "output_type": "stream",
     "text": [
      "/Users/salarsk/developments/phd/nsf/codes/ieee/newcode/incentives/sepdesign/_principal.py:25: UserWarning: *** Could not find pyipopt. ***\n",
      "  warnings.warn('*** Could not find pyipopt. ***')\n"
     ]
    }
   ],
   "source": [
    "import pickle\n",
    "import numpy as np\n",
    "import matplotlib.pyplot as plt\n",
    "import scipy\n",
    "from scipy.special import expit\n",
    "from itertools import *\n",
    "from matplotlib import markers\n",
    "from matplotlib import rc\n",
    "from mpl_toolkits.mplot3d import Axes3D\n",
    "from matplotlib import cm\n",
    "import sys\n",
    "from sepdesign import*\n",
    "from matplotlib import cm\n",
    "%matplotlib inline\n",
    "import matplotlib.ticker as ticker\n",
    "from matplotlib.transforms import blended_transform_factory\n",
    "import seaborn as sns\n",
    "from statsmodels.distributions.empirical_distribution import ECDF\n",
    "from collections import OrderedDict\n",
    "sns.set_context('paper')\n",
    "sns.set_style('white')\n",
    "import pickle\n",
    "import numpy as np\n",
    "import time\n",
    "import matplotlib.pyplot as plt\n",
    "import pandas as pd"
   ]
  },
  {
   "cell_type": "code",
   "execution_count": null,
   "metadata": {},
   "outputs": [],
   "source": [
    "with open('bid.out', 'rb') as f:\n",
    "    z = pickle.load(f)\n",
    "agents_b_mean = [[] for _ in range(len(z))]\n",
    "agents_b_up   = [[] for _ in range(len(z))]\n",
    "agents_b_down = [[] for _ in range(len(z))]\n",
    "# print(len(z[0::2]))\n",
    "\n",
    "for k in range(len(z)):\n",
    "    for i in z[k]:\n",
    "        if len(i) > 0:\n",
    "            agents_b_mean[k].append(np.mean(i))\n",
    "            agents_b_up[k].append(np.percentile(i, 97.5))\n",
    "            agents_b_down[k].append(np.percentile(i, 2.5))\n",
    "\n",
    "for i in range(len(z)):\n",
    "    df_m = pd.DataFrame(agents_b_mean[i])\n",
    "    df_up = pd.DataFrame(agents_b_up[i])\n",
    "    df_down = pd.DataFrame(agents_b_down[i])\n",
    "    roll_m = df_m.rolling(100).mean()\n",
    "    print(\"agent {} average bid is {}\".format(i+1, roll_m.iloc[-10:]))\n",
    "print(agents_b_mean[1][-200:])\n",
    "quit()\n",
    "\n",
    "\n",
    "with open('qual.out', 'rb') as f:\n",
    "    z = pickle.load(f)\n",
    "agents_b_mean = [[] for _ in range(len(z))]\n",
    "agents_b_up   = [[] for _ in range(len(z))]\n",
    "agents_b_down = [[] for _ in range(len(z))]\n",
    "# print(len(z[0::2]))\n",
    "\n",
    "for k in range(len(z)):\n",
    "    for i in z[k]:\n",
    "        if len(i) > 0:\n",
    "            agents_b_mean[k].append(np.mean(i))\n",
    "            agents_b_up[k].append(np.percentile(i, 97.5))\n",
    "            agents_b_down[k].append(np.percentile(i, 2.5))\n",
    "\n",
    "for i in range(len(z)):\n",
    "    df_m = pd.DataFrame(agents_b_mean[i])\n",
    "    df_up = pd.DataFrame(agents_b_up[i])\n",
    "    df_down = pd.DataFrame(agents_b_down[i])\n",
    "    roll_m = df_m.rolling(100).mean()\n",
    "    print(\"agent {} delivered quality is {}\".format(i+1, roll_m.iloc[-10:]))\n",
    "\n",
    "with open('try.out', 'rb') as f:\n",
    "    z = pickle.load(f)\n",
    "agents_b_mean = [[] for _ in range(len(z))]\n",
    "agents_b_up   = [[] for _ in range(len(z))]\n",
    "agents_b_down = [[] for _ in range(len(z))]\n",
    "# print(len(z[0::2]))\n",
    "\n",
    "for k in range(len(z)):\n",
    "    for i in z[k]:\n",
    "        if len(i) > 0:\n",
    "            agents_b_mean[k].append(np.mean(i))\n",
    "            agents_b_up[k].append(np.percentile(i, 97.5))\n",
    "            agents_b_down[k].append(np.percentile(i, 2.5))\n",
    "\n",
    "for i in range(len(z)):\n",
    "    df_m = pd.DataFrame(agents_b_mean[i])\n",
    "    df_up = pd.DataFrame(agents_b_up[i])\n",
    "    df_down = pd.DataFrame(agents_b_down[i])\n",
    "    roll_m = df_m.rolling(100).mean()\n",
    "    print(\"agent {} effort level is {}\".format(i+1, roll_m.iloc[-10:]))"
   ]
  },
  {
   "cell_type": "code",
   "execution_count": null,
   "metadata": {},
   "outputs": [],
   "source": []
  },
  {
   "cell_type": "code",
   "execution_count": null,
   "metadata": {},
   "outputs": [],
   "source": []
  },
  {
   "cell_type": "code",
   "execution_count": null,
   "metadata": {},
   "outputs": [],
   "source": []
  }
 ],
 "metadata": {
  "kernelspec": {
   "display_name": "Python 3",
   "language": "python",
   "name": "python3"
  },
  "language_info": {
   "codemirror_mode": {
    "name": "ipython",
    "version": 3
   },
   "file_extension": ".py",
   "mimetype": "text/x-python",
   "name": "python",
   "nbconvert_exporter": "python",
   "pygments_lexer": "ipython3",
   "version": "3.6.8"
  }
 },
 "nbformat": 4,
 "nbformat_minor": 2
}
